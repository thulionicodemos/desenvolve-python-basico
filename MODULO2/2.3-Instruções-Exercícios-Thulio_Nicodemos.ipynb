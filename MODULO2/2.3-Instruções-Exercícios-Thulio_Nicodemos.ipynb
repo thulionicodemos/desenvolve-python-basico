{
  "metadata": {
    "kernelspec": {
      "name": "python",
      "display_name": "Python (Pyodide)",
      "language": "python"
    },
    "language_info": {
      "codemirror_mode": {
        "name": "python",
        "version": 3
      },
      "file_extension": ".py",
      "mimetype": "text/x-python",
      "name": "python",
      "nbconvert_exporter": "python",
      "pygments_lexer": "ipython3",
      "version": "3.8"
    },
    "colab": {
      "provenance": []
    }
  },
  "nbformat_minor": 4,
  "nbformat": 4,
  "cells": [
    {
      "cell_type": "markdown",
      "source": "# Módulo 2\n\n## 2.3 Instruções e Expressões\n\n### Q1\n\nFaça um programa que armazene o valor de 20 reais de salário por hora de um trabalhador, e o número de 40 horas trabalhadas na semana. Com essas informações, calcule e imprima:\n- Salário semanal bruto\n- Valor descontado por semana INSS (10% do bruto)\n- Valor descontado por semana pelo sindicato (5% do bruto)\n- Salário semanal líquido (Bruto - Descontos)",
      "metadata": {
        "id": "1pCTdOHonv5f"
      }
    },
    {
      "cell_type": "code",
      "source": "salario = 20\nhTrabalhada = 40\nsalarioBruto = salario*hTrabalhada\ninss = salarioBruto*.1\nsindicato = salarioBruto*.05\nsalarioLiquido = salarioBruto-(inss+sindicato)\n\nprint(\"O salário semanal bruto é:\", salarioBruto)\nprint(\"O valor descontado por semana INSS é:\", inss)\nprint(\"O valor descontado por semana pelo sindicato é:\", sindicato)\nprint(\"O salário semanal líquido é:\", salarioLiquido)",
      "metadata": {
        "id": "hVbX0I97nj6M",
        "trusted": true
      },
      "outputs": [
        {
          "name": "stdout",
          "text": "O salário semanal bruto é: 800\nO valor descontado por semana INSS é: 80.0\nO valor descontado por semana pelo sindicato é: 40.0\nO salário semanal líquido é: 680.0\n",
          "output_type": "stream"
        }
      ],
      "execution_count": 2
    },
    {
      "cell_type": "markdown",
      "source": "### Q2\n\nAltere o programa anterior para a partir dos valores de horas trabalhadas por semana e salário por hora, calcular **em somente duas instruções**:\n- Salário semanal bruto\n- Salário semanal líquido com todos os descontos. Para a segunda instrução, realize todos os cálculos aritméticos em uma expressão composta.\n",
      "metadata": {
        "id": "pIxKX9J2oGZ1"
      }
    },
    {
      "cell_type": "code",
      "source": "salario = 50\nhTrabalhada = 40\nprint(\"O salário semanal bruto é:\", salario*hTrabalhada)\nprint(\"O salário semanal líquido é:\", (salario*hTrabalhada)-((salario*hTrabalhada*.1)+(salario*hTrabalhada*.05)))",
      "metadata": {
        "id": "pAHw9Xf9oGoi",
        "trusted": true
      },
      "outputs": [
        {
          "name": "stdout",
          "text": "O salário semanal bruto é: 2000\nO salário semanal líquido é: 1700.0\n",
          "output_type": "stream"
        }
      ],
      "execution_count": 4
    },
    {
      "cell_type": "markdown",
      "source": "### Q3\n\nVocê está desenvolvendo um software de conversão de moeda e precisa calcular o valor equivalente em yuan chinês a partir de uma quantia em real. A taxa de câmbio é de 0.69 BRL (real) para 1 CNY (yuan). Escreva um programa que define em uma variável uma quantia em reais (BRL) e calcula o valor equivalente em yuan (CNY). Imprima o resultado.",
      "metadata": {
        "id": "m8tlHRuWpBOB"
      }
    },
    {
      "cell_type": "code",
      "source": "x = 100 #Variável em reais\n\ncambio = .69 #Taxa de câmbio\n\nprint(\"O valor equivalente em yuan é: \", x/cambio,\"CNY\")",
      "metadata": {
        "id": "2bPw7uF6oeL9",
        "trusted": true
      },
      "outputs": [
        {
          "name": "stdout",
          "text": "O valor equivalente em yuan é:  144.92753623188406 CNY\n",
          "output_type": "stream"
        }
      ],
      "execution_count": 11
    },
    {
      "cell_type": "markdown",
      "source": "### Q4\n\nVocê é um treinador de corrida e deseja calcular a velocidade média que um atleta precisa manter para completar a Maratona Internacional de São Silvestre, que tem uma distância total de 42.195 km. A fórmula para calcular a velocidade média ($v\\_media$) é dada por $v\\_media = \\frac{distancia}{tempo}$ . Escreva um programa em Python para calcular a velocidade média necessária para completar a maratona em 3 horas.\n\n**Calcule e imprima o resultado em metros/segundo**, ou seja, converta a distância de quilômetros para metros ($metro = \\frac{km}{1000}$) e a velocidade de horas para segundos $(segundo = \\frac{hora}{3600})$.",
      "metadata": {
        "id": "-Na3ltDCp74A"
      }
    },
    {
      "cell_type": "code",
      "source": "dKm = 42.195\ntHr = 3\ndMetro = dKm*1000\ntSeg = 3*3600\nprint(\"A velocidade média necessária para completar a maratona é: \", dMetro/tSeg, \"m/s\")",
      "metadata": {
        "id": "Bn6l8kcSrE4L",
        "trusted": true
      },
      "outputs": [
        {
          "name": "stdout",
          "text": "A velocidade média necessária para completar a maratona é:  3.9069444444444446 m/s\n",
          "output_type": "stream"
        }
      ],
      "execution_count": 15
    }
  ]
}