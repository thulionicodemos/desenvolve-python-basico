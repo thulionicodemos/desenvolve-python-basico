{
  "cells": [
    {
      "cell_type": "markdown",
      "id": "559687a1",
      "metadata": {},
      "source": [
        "# Módulo 3 - Condicionais\n",
        "\n",
        "## 3.5 - Decisões Múltiplas"
      ]
    },
    {
      "cell_type": "markdown",
      "id": "42f823b3",
      "metadata": {},
      "source": [
        "### Q1.\n",
        "\n",
        "Vamos fazer uma calculadora! Escreva um programa que solicita 3 entradas: o primeiro operando (float), o operador (caracter) e o segundo operando (float). Seu programa deve imprimir o resultado da operação solicitada, entre soma (+), subtração (-), divisão (/), multiplicação (\\*) ou potência (\\*\\*). Seu programa também deve imprimir uma mensagem de erro se a operação solicitada não estiver dentre as opções disponíveis.\n",
        "\n",
        "Seguem alguns exemplos de interação com seu código no terminal. \n",
        "\n",
        "\n",
        "```\n",
        "Digite o primeiro operando: 5.2\n",
        "Digite o operador (+, -, /, *, **): *\n",
        "Digite o segundo operando` 3\n",
        "Resultado: 5.2 * 3.0 = 15.6\n",
        "```\n",
        "\n",
        "```\n",
        "Digite o primeiro operando: 8\n",
        "Digite o operador (+, -, /, *, **): **\n",
        "Digite o segundo operando: 2\n",
        "Resultado: 8.0 * 2.0 = 64.0\n",
        "```\n",
        "\n",
        "```\n",
        "Digite o primeiro operando: 7\n",
        "Digite o operador (+, -, /, *, **): %\n",
        "Digite o segundo operando: 3.4\n",
        "Erro! Operação inválida. \n",
        "```\n",
        "\n",
        "```\n",
        "Digite o primeiro operando: 10\n",
        "Digite o operador (+, -, /, *, **): /\n",
        "Digite o segundo operando: 2.5\n",
        "Resultado: 10.0 / 2.5 = 4.0\n",
        "```\n",
        "\n"
      ]
    },
    {
      "cell_type": "code",
      "execution_count": 7,
      "id": "2411567e-22c6-4418-8eeb-063741de7b9b",
      "metadata": {
        "scrolled": true,
        "trusted": true
      },
      "outputs": [
        {
          "ename": "ValueError",
          "evalue": "could not convert string to float: ''",
          "output_type": "error",
          "traceback": [
            "\u001b[1;31m---------------------------------------------------------------------------\u001b[0m",
            "\u001b[1;31mValueError\u001b[0m                                Traceback (most recent call last)",
            "Cell \u001b[1;32mIn[7], line 1\u001b[0m\n\u001b[1;32m----> 1\u001b[0m x \u001b[38;5;241m=\u001b[39m \u001b[38;5;28;43mfloat\u001b[39;49m\u001b[43m(\u001b[49m\u001b[38;5;28;43minput\u001b[39;49m\u001b[43m(\u001b[49m\u001b[38;5;124;43m\"\u001b[39;49m\u001b[38;5;124;43mDigite o primeiro operando: \u001b[39;49m\u001b[38;5;124;43m\"\u001b[39;49m\u001b[43m)\u001b[49m\u001b[43m)\u001b[49m\n\u001b[0;32m      2\u001b[0m op \u001b[38;5;241m=\u001b[39m \u001b[38;5;28minput\u001b[39m(\u001b[38;5;124m\"\u001b[39m\u001b[38;5;124mDigite o operador ((+, -, /, *, **)): \u001b[39m\u001b[38;5;124m\"\u001b[39m)\n\u001b[0;32m      3\u001b[0m y \u001b[38;5;241m=\u001b[39m \u001b[38;5;28mfloat\u001b[39m(\u001b[38;5;28minput\u001b[39m(\u001b[38;5;124m\"\u001b[39m\u001b[38;5;124mDigite o segundo operando: \u001b[39m\u001b[38;5;124m\"\u001b[39m))\n",
            "\u001b[1;31mValueError\u001b[0m: could not convert string to float: ''"
          ]
        }
      ],
      "source": [
        "x = float(input(\"Digite o primeiro operando: \"))\n",
        "op = input(\"Digite o operador ((+, -, /, *, **)): \")\n",
        "y = float(input(\"Digite o segundo operando: \"))\n",
        "\n",
        "if op == '+':\n",
        "    print(\"Resultado: \", x+y)\n",
        "elif op == '-':\n",
        "    print(\"Resultado: \", x-y)\n",
        "elif op == '/':\n",
        "    if y != 0:\n",
        "        print(\"Resultado: \", x/y)\n",
        "    else:\n",
        "        print(\"Erro! Divisão por zero.\")\n",
        "elif op == '*':\n",
        "    print(\"Resultado: \", x*y)\n",
        "elif op == '**':\n",
        "    print(\"Resultado: \", x**y)\n",
        "else:\n",
        "    print(\"Erro! Operação inválida.\")"
      ]
    },
    {
      "cell_type": "markdown",
      "id": "d135df39",
      "metadata": {},
      "source": [
        "### Q2.\n",
        "\n",
        "Escreva um programa que leia os comprimentos dos 3 lados de um triângulo e diga se o triângulo é equilátero, isóceles ou escaleno. Regras:\n",
        "- Isóceles: Quaisquer dois lados com o mesmo comprimento\n",
        "- Equilátero: Os três lados tem o mesmo comprimento\n",
        "- Escaleno: Três lados de comprimento diferente \n",
        "\n",
        "Note que a ordem das condições importa! Seguem alguns exemplos de interação com seu código no terminal. \n",
        "\n",
        "```\n",
        "Digite o comprimento do lado 1: 4\n",
        "Digite o comprimento do lado 2: 4\n",
        "Digite o comprimento do lado 3: 6\n",
        "Triângulo: Isóceles\n",
        "```\n",
        "\n",
        "```\n",
        "Digite o comprimento do lado 1: 5\n",
        "Digite o comprimento do lado 2: 5\n",
        "Digite o comprimento do lado 3: 5\n",
        "Triângulo: Equilátero\n",
        "```\n",
        "\n",
        "```\n",
        "Digite o comprimento do lado 1: 7\n",
        "Digite o comprimento do lado 2: 4\n",
        "Digite o comprimento do lado 3: 9\n",
        "Triângulo: Escaleno\n",
        "```\n",
        "\n"
      ]
    },
    {
      "cell_type": "code",
      "execution_count": 20,
      "id": "cfcf9a80",
      "metadata": {
        "trusted": true
      },
      "outputs": [
        {
          "name": "stdout",
          "output_type": "stream",
          "text": [
            "Triângulo Isóceles\n"
          ]
        }
      ],
      "source": [
        "x = float(input(\"Digite o comprimento do lado 1: \"))\n",
        "y = float(input(\"Digite o comprimento do lado 2: \"))\n",
        "z = float(input(\"Digite o comprimento do lado 3: \"))\n",
        "\n",
        "if x == y and x == z:\n",
        "    print(\"Triângulo Equilátero\")\n",
        "elif x == y or x == z or y == z:\n",
        "    print(\"Triângulo Isóceles\")\n",
        "else:\n",
        "    print(\"Triângulo Escaleno\")"
      ]
    },
    {
      "cell_type": "markdown",
      "id": "ed3405fb",
      "metadata": {},
      "source": [
        "### Q3.\n",
        "\n",
        "Você está desenvolvendo um sistema de avaliação de desempenho para um jogo. Escreva um programa em Python que avalia a pontuação do jogador em uma missão e atribui uma classificação com base nas seguintes condições:\n",
        "\n",
        "- Se a pontuação for menor que 70, atribua a classificação \"Insatisfatório\".\n",
        "- Se a pontuação for maior ou igual a 70, atribua a classificação \"Regular\".\n",
        "- Se a pontuação for maior ou igual a 80, atribua a classificação \"Bom\".\n",
        "- Se a pontuação for maior ou igual a 90, atribua a classificação \"Excelente\".\n",
        "\n",
        "Escreva um programa que solicita ao usuário a pontuação e imprime a classificação correspondente."
      ]
    },
    {
      "cell_type": "code",
      "execution_count": 31,
      "id": "a7a842ae",
      "metadata": {
        "trusted": true
      },
      "outputs": [
        {
          "name": "stdout",
          "output_type": "stream",
          "text": [
            "Regular\n"
          ]
        }
      ],
      "source": [
        "x = float(input(\"Digite sua pontuação: \"))\n",
        "\n",
        "if x < 70:\n",
        "    print(\"Insatisfatório\")\n",
        "elif x >= 70 and x < 80:\n",
        "    print(\"Regular\")\n",
        "elif x >= 80 and x < 90:\n",
        "    print(\"Bom\")\n",
        "elif x >= 90:\n",
        "    print(\"Excelente\")"
      ]
    },
    {
      "cell_type": "markdown",
      "id": "6cafaa50",
      "metadata": {},
      "source": [
        "### Q4.\n",
        "\n",
        "Você está implementando um sistema de desconto em uma loja online. Escreva um programa em Python que calcula o desconto com base no valor total da compra e atribui diferentes níveis de desconto de acordo com as seguintes condições:\n",
        "\n",
        "- Se o valor total da compra for menor que R\\$ 50, não há desconto.\n",
        "- Se o valor total da compra for maior ou igual a R\\$ 50, atribua um desconto de 10%.\n",
        "- Se o valor total da compra for maior ou igual a R\\$ 100, atribua um desconto de 20%.\n",
        "\n",
        "\n",
        "Seguem alguns exemplos de interação com seu código no terminal. Preste atenção na formatação esperada para as saídas.\n",
        "\n",
        "```\n",
        "Digite o valor total da compra: 120\n",
        "Desconto aplicado: 20.0%\n",
        "Valor final com desconto: R$96.00\n",
        "```\n",
        "\n",
        "```\n",
        "Digite o valor total da compra: 65\n",
        "Desconto aplicado: 10.0%\n",
        "Valor final com desconto: R$58.50\n",
        "```\n",
        "\n",
        "```\n",
        "Digite o valor total da compra: 40\n",
        "Desconto aplicado: 0.0%\n",
        "Valor final com desconto: R$40.00\n",
        "```\n",
        "\n",
        "\n"
      ]
    },
    {
      "cell_type": "code",
      "execution_count": 36,
      "id": "3b1b1929",
      "metadata": {
        "trusted": true
      },
      "outputs": [
        {
          "name": "stdout",
          "output_type": "stream",
          "text": [
            "Desconto aplicado: 0.0%\n",
            "Valor final com desconto: R$40.0\n"
          ]
        }
      ],
      "source": [
        "x = float(input(\"Digite o valor total da compra: \"))\n",
        "\n",
        "if x >= 50 and x < 100:\n",
        "    print(\"Desconto aplicado: 10.0%\")\n",
        "    print(f\"Valor final com desconto: R${(x*0.9):.2f}\")\n",
        "elif x >= 100:\n",
        "    print(\"Desconto aplicado: 20.0%\")\n",
        "    print(f\"Valor final com desconto: R${(x*0.8):.2f}\")\n",
        "else:\n",
        "    print(\"Desconto aplicado: 0.0%\")\n",
        "    print(f\"Valor final com desconto: R${x}\")"
      ]
    },
    {
      "cell_type": "markdown",
      "id": "dc5db6d7",
      "metadata": {},
      "source": [
        "### Q5.\n",
        "\n",
        "Você está projetando um sistema de autenticação baseado na análise da íris (parte colorida do olho). Ao acionado, o sistema coleta e retorna 3 valores inteiros referentes a atributos da íris visível. Mas o sistema não é perfeito, tendo uma margem de erro do sensor de +/- $5$. \n",
        "\n",
        "O código abaixo tem os atributos dos 4 usuários cadastrados no sistema. Você deve completar om código, pedindo ao usuário para inserir uma nova leitura de padrão de íris. O programa deve comparar o padrão inserido com os padrões cadastrados no banco de dados. Se o padrão estiver dentro da tolerância estabelecida, o usuário é autenticado com sucesso. Caso contrário, a autenticação falha.\n",
        "\n",
        "**Dica:** A função do python ```abs()``` retorna o valor absoluto de um elemento. Ex: \n",
        "```\n",
        ">>> print(abs(987-982))\n",
        "5\n",
        ">>> print(abs(987-992))\n",
        "5\n",
        "```\n",
        "\n",
        "Seguem alguns exemplos de interação com seu código no terminal.\n",
        "\n",
        "```\n",
        "Insira o padrão de íris para autenticação.\n",
        "Atributo 1: 111\n",
        "Atributo 2: 222\n",
        "Atributo 3: 333\n",
        "Autenticação bem-sucedida! \n",
        "Usuário: 3\n",
        "```\n",
        "\n",
        "```\n",
        "Insira o padrão de íris para autenticação.\n",
        "Atributo 1: 111\n",
        "Atributo 2: 200\n",
        "Atributo 3: 333\n",
        "Autenticação falhou! \n",
        "```\n",
        "\n",
        "```\n",
        "Insira o padrão de íris para autenticação.\n",
        "Atributo 1: 982\n",
        "Atributo 2: 653\n",
        "Atributo 3: 324\n",
        "Autenticação bem-sucedida! \n",
        "Usuário: 2\n",
        "```"
      ]
    },
    {
      "cell_type": "code",
      "execution_count": 46,
      "id": "b90304eb",
      "metadata": {
        "trusted": true
      },
      "outputs": [
        {
          "name": "stdout",
          "output_type": "stream",
          "text": [
            "5\n",
            "Autenticado com sucesso!\n",
            "Usuário:  2\n"
          ]
        }
      ],
      "source": [
        "## Não altere os atributos definidos a seguir\n",
        "iris1_a1, iris1_a2, iris1_a3 = 123, 456, 789\n",
        "iris2_a1, iris2_a2, iris2_a3 = 987, 654, 321\n",
        "iris3_a1, iris3_a2, iris3_a3 = 111, 222, 333\n",
        "iris4_a1, iris4_a2, iris4_a3 = 444, 555, 666\n",
        "\n",
        "# Margem de erro do sensor\n",
        "margem_erro = 5\n",
        "    \n",
        "# Solicitar a leitura de uma nova íris\n",
        "leitura_a1 = int(input(\"Digite o valor do atributo 1 da íris: \"))\n",
        "leitura_a2 = int(input(\"Digite o valor do atributo 2 da íris: \"))\n",
        "leitura_a3 = int(input(\"Digite o valor do atributo 3 da íris: \"))\n",
        "    \n",
        "# Variável para armazenar o usuário autenticado\n",
        "usuario_autenticado = 0\n",
        "\n",
        "# Verificar se a leitura está dentro da margem de erro para algum usuário cadastrado\n",
        "if (abs(leitura_a1 - iris1_a1) <= margem_erro and abs(leitura_a2 - iris1_a2) <= margem_erro and abs(leitura_a3 - iris1_a3) <= margem_erro): \n",
        "    usuario_autenticado = 1\n",
        "elif (abs(leitura_a1 - iris2_a1) <= margem_erro and abs(leitura_a2 - iris2_a2) <= margem_erro and abs(leitura_a3 - iris2_a3) <= margem_erro):\n",
        "    usuario_autenticado = 2\n",
        "elif (abs(leitura_a1 - iris3_a1) <= margem_erro and abs(leitura_a2 - iris3_a2) <= margem_erro and abs(leitura_a3 - iris3_a3) <= margem_erro):\n",
        "    usuario_autenticado = 3\n",
        "elif (abs(leitura_a1 - iris4_a1) <= margem_erro and abs(leitura_a2 - iris4_a2) <= margem_erro and abs(leitura_a3 - iris4_a3) <= margem_erro):\n",
        "    usuario_autenticado = 4\n",
        "    \n",
        "# Resultado da autenticação\n",
        "if usuario_autenticado != 0:\n",
        "    print(\"Autenticado com sucesso!\")\n",
        "    print(\"Usuário: \", usuario_autenticado)\n",
        "else:\n",
        "    print(\"Autenticação falhou!\")"
      ]
    }
  ],
  "metadata": {
    "kernelspec": {
      "display_name": "Python 3",
      "language": "python",
      "name": "python3"
    },
    "language_info": {
      "codemirror_mode": {
        "name": "ipython",
        "version": 3
      },
      "file_extension": ".py",
      "mimetype": "text/x-python",
      "name": "python",
      "nbconvert_exporter": "python",
      "pygments_lexer": "ipython3",
      "version": "3.12.3"
    }
  },
  "nbformat": 4,
  "nbformat_minor": 5
}
