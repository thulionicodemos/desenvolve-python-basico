{
 "cells": [
  {
   "cell_type": "markdown",
   "id": "cbdff5a5",
   "metadata": {},
   "source": [
    "# Módulo 5 - Funções\n",
    "\n",
    "## Aulas 5.2 - Funções Customizadas e 5.4 Funções ```lambda```"
   ]
  },
  {
   "cell_type": "markdown",
   "id": "28a3fee2",
   "metadata": {},
   "source": [
    "### Q1.\n",
    "\n",
    "- Sabendo que o código a seguir calcula o fatorial de n, escreva uma função chamada ```fatorial()``` que recebe um inteiro ```n``` como parâmetro e retorna o resultado do fatorial de ```n```. \n",
    "- No programa principal, peça ao usuário o valor de ```n```, chame a sua função e imprima o retorno.\n",
    "\n",
    "```python\n",
    "fat = 1\n",
    "for i in range(1, n+1):\n",
    "    fat *= i \n",
    "```"
   ]
  },
  {
   "cell_type": "code",
   "execution_count": 1,
   "id": "d126b3a5",
   "metadata": {},
   "outputs": [],
   "source": [
    "## Crie aqui a função fatorial()\n",
    "## lembre-se de executar a célula para que \n",
    "## a função passe a existir e possa ser chamada\n",
    "def fatorial(n):\n",
    "    fat = 1\n",
    "    for i in range(1, n+1):\n",
    "        fat *= i\n",
    "    return fat"
   ]
  },
  {
   "cell_type": "code",
   "execution_count": 6,
   "id": "6e4fe64e",
   "metadata": {},
   "outputs": [
    {
     "name": "stdout",
     "output_type": "stream",
     "text": [
      "5! = 120\n"
     ]
    }
   ],
   "source": [
    "## Escreva aqui o programa principal e execute a célula\n",
    "n = int(input(\"Digite o número que deseja calcular o fatorial: \"))\n",
    "\n",
    "while n < 0:\n",
    "    n = int(input(\"Número negativo não aceito, digite outro valor: \"))\n",
    "\n",
    "print(f\"{n}! =\", fatorial(n))"
   ]
  },
  {
   "cell_type": "markdown",
   "id": "c0a1f599",
   "metadata": {},
   "source": [
    "### Q2.\n",
    "\n",
    "- Escreva uma função em Python chamada ```soma_quadrados``` que recebe dois números como parâmetros e retorna a soma dos seus quadrados. \n",
    "- No programa principal solicite ao usuário que insira dois números e utilize a função para exibir a soma dos quadrados."
   ]
  },
  {
   "cell_type": "code",
   "execution_count": 7,
   "id": "6dbddaad",
   "metadata": {},
   "outputs": [],
   "source": [
    "## Crie aqui a função soma_quadrados()\n",
    "def soma_quadrados(x, y):\n",
    "    soma = x**2 + y**2\n",
    "    return soma"
   ]
  },
  {
   "cell_type": "code",
   "execution_count": 9,
   "id": "9175a7da",
   "metadata": {},
   "outputs": [
    {
     "name": "stdout",
     "output_type": "stream",
     "text": [
      "A soma dos dos quadrados dos números digitados é:  32.0\n"
     ]
    }
   ],
   "source": [
    "## Escreva aqui o programa principal e execute a célula\n",
    "x = float(input(\"Digite um número: \"))\n",
    "y = float(input(\"Digite outro número: \"))\n",
    "\n",
    "print(\"A soma dos dos quadrados dos números digitados é: \", soma_quadrados(x, y))"
   ]
  },
  {
   "cell_type": "markdown",
   "id": "6ba34ce0",
   "metadata": {},
   "source": [
    "### Q3.\n",
    "\n",
    "- Crie uma função em Python chamada ```soma_digitos``` que recebe um número inteiro como parâmetro e retorna a soma dos seus dígitos. Por exemplo, para o número 123, a função deve retornar 6, $(1 + 2 + 3)$.\n",
    "    - O desafio aqui é separar os dígitos de um número inteiro usando operações aritméticas <br> <br>\n",
    "\n",
    "- No programa principal solicite ao usuário que insira um número e utilize a função ```soma_digitos``` para calcular e exibir a soma dos seus dígitos."
   ]
  },
  {
   "cell_type": "code",
   "execution_count": 12,
   "id": "34838ebf",
   "metadata": {},
   "outputs": [],
   "source": [
    "## Crie aqui a função soma_digitos()\n",
    "def soma_digitos(n):\n",
    "    soma = 0\n",
    "    digs = []\n",
    "\n",
    "    while n > 0:\n",
    "        # Obtém último dígito do número\n",
    "        dig = n % 10\n",
    "        # Adiciona o dígito à lista\n",
    "        digs.append(dig)\n",
    "        # Remove o último dígito do número\n",
    "        n = n // 10\n",
    "    \n",
    "    # Retorna a soma dos elementos da lista\n",
    "    for i in digs:\n",
    "        soma += i\n",
    "    return soma"
   ]
  },
  {
   "cell_type": "code",
   "execution_count": 13,
   "id": "27c35b21",
   "metadata": {},
   "outputs": [
    {
     "name": "stdout",
     "output_type": "stream",
     "text": [
      "A soma dos dígitos de 123 é: 6\n"
     ]
    }
   ],
   "source": [
    "## Escreva aqui o programa principal e execute a célula\n",
    "n = int(input(\"Digite um número inteiro: \"))\n",
    "\n",
    "print(f\"A soma dos dígitos de {n} é: {soma_digitos(n)}\")"
   ]
  },
  {
   "cell_type": "markdown",
   "id": "c318b159",
   "metadata": {},
   "source": [
    "### Q4.\n",
    "\n",
    "- Crie a função ```inverteValor()``` que recebe um inteiro de qualquer tamanho e retorna esse valor invertido usando apenas operações aritméticas\n",
    "- Crie a função ```verificaInverso()``` que recebe o valor original e o valor invertido e retorna verdadeiro se ambos forem igualmente par ou igualmente ímpar. Retorne falso caso contrário.\n",
    "- No programa principal, peça um valor do usuário e imprima o retorno de ambas as funções.\n"
   ]
  },
  {
   "cell_type": "code",
   "execution_count": 15,
   "id": "e4e47d1d",
   "metadata": {},
   "outputs": [],
   "source": [
    "## Crie aqui as funções inverteValor() e verificaInverso()\n",
    "def inverteValor(n):\n",
    "    nInvertido = 0\n",
    "    \n",
    "    while n > 0:\n",
    "        # Obtém o último dígito do número\n",
    "        dig = n % 10\n",
    "        # Adiciona o dígito ao número invertido\n",
    "        nInvertido = nInvertido * 10 + dig\n",
    "        # Remove o último dígito do número\n",
    "        n = n // 10\n",
    "    \n",
    "    # Retorna o número invertido\n",
    "    return nInvertido\n",
    "\n",
    "def verificaInverso(n, nInvertido):\n",
    "    if (n % 2 == 0) and (nInvertido % 2 == 0):\n",
    "        return True\n",
    "    elif (n % 2 != 0) and (nInvertido % 2 != 0):\n",
    "        return True\n",
    "    else:\n",
    "        return False"
   ]
  },
  {
   "cell_type": "code",
   "execution_count": 17,
   "id": "a9514e56",
   "metadata": {},
   "outputs": [
    {
     "name": "stdout",
     "output_type": "stream",
     "text": [
      "O número 142 inverso é: 241\n",
      "Um dos números é par e o outro é ímpar.\n"
     ]
    }
   ],
   "source": [
    "## Escreva aqui o programa principal e execute a célula\n",
    "n = int(input(\"Digite um número: \"))\n",
    "\n",
    "# Exibe o retorno das funções\n",
    "print(f\"O número {n} inverso é: {inverteValor(n)}\")\n",
    "\n",
    "if verificaInverso(n, inverteValor(n)) == True:\n",
    "    print(\"Ambos números são igualmente par ou ímpar.\")\n",
    "else:\n",
    "    print(\"Um dos números é par e o outro é ímpar.\")"
   ]
  },
  {
   "cell_type": "markdown",
   "id": "329be966",
   "metadata": {},
   "source": [
    "### Q5.\n",
    "\n",
    "Você está desenvolvendo um programa para auxiliar em cálculos de geometria básica. Crie as seguintes funções:\n",
    "- A função ```calcula_perimetro_triangulo()``` que recebe três inteiros correspondentes aos lados de um triângulo e retorna o perímetro do triângulo, ou seja, a soma dos seus lados.\n",
    "- A função ```calcula_perimetro_circulo()``` que recebe um inteiro referente ao raio do círculo e retorna o perímetro do círculo, dado por $2 \\pi r$. Use a constante $\\pi$ da biblioteca ```math```.\n",
    "- A função ```calcula_perimetro_retangulo()``` que possui um parâmetro obrigatório ```lado1``` e um opcional ```lado2```, ambos inteiros. Se o valor opcional não for fornecido, significa que se trata de um quadrado. Sua função deve calcular e retornar o perímetro do retângulo, ou seja, a soma de seus lados. \n",
    "    - Para o quadrado, é dado por $4 \\times lado1$\n",
    "    - Para o retângulo é dado por $2 \\times lado1 + 2 \\times lado2$\n",
    "    \n",
    "- No programa principal apresente um menu com as opções disponíveis do seu sistema e uma quarta opção ```Sair```. Solicite ao usuário a opção desejada, solicite as entradas correspondentes à opção escolhida, invoque a respective função e apresente o seu retorno. Seu programa deve retornar ao menu até que o usuário escolha a opção ```Sair```\n",
    "\n",
    "Exemplo de interação:\n",
    "```\n",
    "1 - Calcular perímetro triângulo\n",
    "2 - Calcular perímetro círculo\n",
    "3 - Calcular perímetro retângulo\n",
    "4 - Sair\n",
    "\n",
    "Opção: 1\n",
    "Digite os três lados do triângulo:\n",
    "3\n",
    "4\n",
    "5\n",
    "O perímetro é: 12\n",
    "\n",
    "1 - Calcular perímetro triângulo\n",
    "2 - Calcular perímetro círculo\n",
    "3 - Calcular perímetro retângulo\n",
    "4 - Sair\n",
    "\n",
    "Opção: 3\n",
    "Informe os dois lados do retângulo. Se for um quadrado, digite 0 para o segundo valor:\n",
    "5\n",
    "0\n",
    "O perímetro é: 20\n",
    "\n",
    "1 - Calcular perímetro triângulo\n",
    "2 - Calcular perímetro círculo\n",
    "3 - Calcular perímetro retângulo\n",
    "4 - Sair\n",
    "\n",
    "Opção: 4\n",
    "```"
   ]
  },
  {
   "cell_type": "code",
   "execution_count": 22,
   "id": "0793d328",
   "metadata": {},
   "outputs": [],
   "source": [
    "## Crie aqui as funções \n",
    "import math\n",
    "\n",
    "def calcula_perimetro_triangulo(l1, l2, l3):\n",
    "    return l1 + l2 + l3\n",
    "\n",
    "def calcula_perimetro_circulo(r):\n",
    "    return 2 * math.pi * r\n",
    "\n",
    "def calcula_perimetro_retangulo(l1, l2=None):\n",
    "    if (l2 is None) or (l2 == 0):\n",
    "        return 4 * l1 \n",
    "    else:\n",
    "        return 2 * l1 + 2 * l2\n",
    "\n",
    "def menu():\n",
    "    # Menu de opções\n",
    "    print(\"Menu:\")\n",
    "    print(\"1. Calcular perímetro de um triângulo\")\n",
    "    print(\"2. Calcular perímetro de um círculo\")\n",
    "    print(\"3. Calcular perímetro de um retângulo/quadrado\")\n",
    "    print(\"4. Sair\")"
   ]
  },
  {
   "cell_type": "code",
   "execution_count": 23,
   "id": "36269c71",
   "metadata": {},
   "outputs": [
    {
     "name": "stdout",
     "output_type": "stream",
     "text": [
      "Menu:\n",
      "1. Calcular perímetro de um triângulo\n",
      "2. Calcular perímetro de um círculo\n",
      "3. Calcular perímetro de um retângulo/quadrado\n",
      "4. Sair\n",
      "O perímetro do retângulo/quadrado é: 20.0\n",
      "Menu:\n",
      "1. Calcular perímetro de um triângulo\n",
      "2. Calcular perímetro de um círculo\n",
      "3. Calcular perímetro de um retângulo/quadrado\n",
      "4. Sair\n",
      "Saiu!\n"
     ]
    }
   ],
   "source": [
    "## Escreva aqui o programa principal \n",
    "while True:\n",
    "    menu()\n",
    "    \n",
    "    op = input(\"Escolha uma opção (1-4): \")\n",
    "\n",
    "    if op == '1':\n",
    "        l1 = float(input(\"Informe o primeiro lado do triângulo: \"))\n",
    "        l2 = float(input(\"Informe o segundo lado do triângulo: \"))\n",
    "        l3 = float(input(\"Informe o terceiro lado do triângulo: \"))\n",
    "        print(f\"O perímetro do triângulo é: {calcula_perimetro_triangulo(l1, l2, l3):.2f}\")\n",
    "        \n",
    "    elif op == '2':\n",
    "        r = float(input(\"Informe o raio do círculo: \"))\n",
    "        print(f\"O perímetro do círculo é: {calcula_perimetro_circulo(r):.2f}\")\n",
    "\n",
    "    elif op == '3':\n",
    "        l1 = float(input(\"Informe o lado 1 do retângulo/quadrado: \"))\n",
    "        # Solicita e verifica se o lado 2 possui um valor, se sim, o mesmo é atribuído à variável l2\n",
    "        l2_input = input(\"Informe o lado 2 do retângulo (ou deixe em branco se for um quadrado): \")\n",
    "        if l2_input:\n",
    "            l2 = float(l2_input)\n",
    "        else:\n",
    "            l2 = None\n",
    "        print(f\"O perímetro do retângulo/quadrado é: {calcula_perimetro_retangulo(l1, l2)}\")\n",
    "\n",
    "    elif op == '4':\n",
    "        print(\"Saiu!\")\n",
    "        break\n",
    "\n",
    "    else:\n",
    "        print(\"Opção inválida. Tente novamente.\")"
   ]
  },
  {
   "cell_type": "markdown",
   "id": "3016bcc7",
   "metadata": {},
   "source": [
    "## Funções ```lambda```"
   ]
  },
  {
   "cell_type": "markdown",
   "id": "f9cdb8dd",
   "metadata": {},
   "source": [
    "### Q6.\n",
    "\n",
    "Crie uma função lambda para verificar se um número é par ou ímpar. Em seguida, solicite ao usuário um número indefinidos de valores (até que o usuário digite 0). Para cada valor de entrada, informe se é par ou ímpar.\n",
    "\n",
    "Exemplo de interação:\n",
    "```\n",
    "Digite os valores que deseja verificar a paridade (digite 0 para finalizar a entrada de dados):\n",
    "3\n",
    "ímpar\n",
    "8\n",
    "par\n",
    "12\n",
    "par\n",
    "5\n",
    "ímpar\n",
    "7ímpar\n",
    "```"
   ]
  },
  {
   "cell_type": "code",
   "execution_count": 5,
   "id": "e3c31a78",
   "metadata": {},
   "outputs": [
    {
     "name": "stdout",
     "output_type": "stream",
     "text": [
      "Digite os valores que deseja verificacr a paridade (digite 0 para finalizar a entrada de dados):\n",
      "1 é Ímpar\n",
      "2 é Par\n",
      "2 é Par\n",
      "3 é Ímpar\n",
      "5 é Ímpar\n"
     ]
    }
   ],
   "source": [
    "# Declaração da função lambda\n",
    "p = lambda n: \"Par\" if n % 2 == 0 else \"Ímpar\"\n",
    "n = 1\n",
    "print(\"Digite os valores que deseja verificacr a paridade (digite 0 para finalizar a entrada de dados):\")\n",
    "\n",
    "while n != 0:\n",
    "    n = int(input())\n",
    "    if n == 0:\n",
    "        break\n",
    "    else:\n",
    "        print (f\"{n} é {p(n)}\")"
   ]
  },
  {
   "cell_type": "markdown",
   "id": "5a87474d",
   "metadata": {},
   "source": [
    "### Q7.\n",
    "\n",
    "Escreva um programa que pergunte ao usuário qual operação ele deseja: maior ou menor.\n",
    "Em seguida leia uma quantidade indefinida de valores do usuário, até que o usuário digite o valor zero.\n",
    "Apresente ao final o maior ou menor dos valores digitados de acordo com a escolha do usuário.\n",
    "\n",
    "**Sua solução deve incluir pelo menos uma função ```lambda```** \n",
    "\n",
    "Exemplo de interação:\n",
    "```\n",
    "Opções: (1) maior ou (2) menor?\n",
    "Opção: 1\n",
    "\n",
    "Digite os valores de entrada. Digite 0 para finalizar a entrada de valores.\n",
    "4\n",
    "12\n",
    "15\n",
    "1\n",
    "0\n",
    "\n",
    "O maior valor é: 15\n",
    "```"
   ]
  },
  {
   "cell_type": "code",
   "execution_count": 16,
   "id": "ee3f68ca",
   "metadata": {},
   "outputs": [
    {
     "name": "stdout",
     "output_type": "stream",
     "text": [
      "Opções: (1) maior ou (2) menor?\n",
      "Operação inválida. Digite novamente!\n",
      "Operação inválida. Digite novamente!\n",
      "Operação inválida. Digite novamente!\n",
      "Operação inválida. Digite novamente!\n",
      "Operação inválida. Digite novamente!\n",
      "Operação inválida. Digite novamente!\n",
      "O menor valor digitado é: -875496\n"
     ]
    }
   ],
   "source": [
    "## Escreva aqui o programa principal\n",
    "print(\"Opções: (1) maior ou (2) menor?\")\n",
    "op = int(input(\"Opção: \"))\n",
    "\n",
    "# Solicita entrada enquanto o operador não for válido\n",
    "while True:\n",
    "    op = int(input(\"Opção: \"))\n",
    "    if op == 1 or op == 2:\n",
    "        break\n",
    "    print(\"Operação inválida. Digite novamente!\")\n",
    "\n",
    "# Define a função de comparação lambda com base na operação escolhida\n",
    "comparador = (lambda x, y: x if x > y else y) if op == 1 else (lambda x, y: x if x < y else y)\n",
    "\n",
    "valores = []\n",
    "\n",
    "# Lê uma quantidade indefinida de valores do usuário\n",
    "while True:\n",
    "    n = int(input(\"Digite um valor (ou 0 para terminar): \"))\n",
    "    if n == 0:\n",
    "        break\n",
    "    valores.append(n)\n",
    "\n",
    "# Calcula o maior ou menor valor usando a função lambda\n",
    "res = valores[0]\n",
    "for n in valores[1:]:\n",
    "    res = comparador(res, n)\n",
    "\n",
    "# Apresenta o resultado final\n",
    "op_texto = \"maior\" if op == 1 else \"menor\"\n",
    "print(f\"O {op_texto} valor digitado é: {res}\")"
   ]
  }
 ],
 "metadata": {
  "kernelspec": {
   "display_name": "Python 3 (ipykernel)",
   "language": "python",
   "name": "python3"
  },
  "language_info": {
   "codemirror_mode": {
    "name": "ipython",
    "version": 3
   },
   "file_extension": ".py",
   "mimetype": "text/x-python",
   "name": "python",
   "nbconvert_exporter": "python",
   "pygments_lexer": "ipython3",
   "version": "3.12.3"
  }
 },
 "nbformat": 4,
 "nbformat_minor": 5
}
